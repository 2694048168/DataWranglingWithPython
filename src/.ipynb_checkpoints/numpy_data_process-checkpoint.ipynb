{
 "cells": [
  {
   "cell_type": "code",
   "execution_count": 2,
   "metadata": {},
   "outputs": [
    {
     "data": {
      "text/plain": [
       "array([[7.07106781, 7.06400028, 7.05693985, ..., 7.04988652, 7.05693985,\n",
       "        7.06400028],\n",
       "       [7.06400028, 7.05692568, 7.04985815, ..., 7.04279774, 7.04985815,\n",
       "        7.05692568],\n",
       "       [7.05693985, 7.04985815, 7.04278354, ..., 7.03571603, 7.04278354,\n",
       "        7.04985815],\n",
       "       ...,\n",
       "       [7.04988652, 7.04279774, 7.03571603, ..., 7.0286414 , 7.03571603,\n",
       "        7.04279774],\n",
       "       [7.05693985, 7.04985815, 7.04278354, ..., 7.03571603, 7.04278354,\n",
       "        7.04985815],\n",
       "       [7.06400028, 7.05692568, 7.04985815, ..., 7.04279774, 7.04985815,\n",
       "        7.05692568]])"
      ]
     },
     "execution_count": 2,
     "metadata": {},
     "output_type": "execute_result"
    }
   ],
   "source": [
    "# 利用数组进行数据处理\n",
    "import numpy as np\n",
    "\n",
    "# ndarray 数组可以将许多数据处理任务表述为简洁的数组表达式\n",
    "# 用数组表达式 代替 循环 ，通常称之为矢量化\n",
    "# 矢量化数组运算 比 等价的纯python方法快\n",
    "# 特别是 广播 功能，针对矢量化计算的强大技巧\n",
    "\n",
    "# 计算函数 z(x,y) = sqrt(x ** 2 + y ** 2)\n",
    "# 随机生成数据 1000 数据点\n",
    "points = np.arange(-5, 5, 0.01)\n",
    "# 赋值给 X Y\n",
    "X_points, Y_points = np.meshgrid(points, points)\n",
    "Z = np.sqrt(X_points ** 2 + Y_points ** 2)\n",
    "Z"
   ]
  },
  {
   "cell_type": "code",
   "execution_count": 7,
   "metadata": {},
   "outputs": [
    {
     "data": {
      "text/plain": [
       "Text(0.5, 1.0, 'Image plot of $\\\\sqrt{x^2 + y^2}$ for g grid of values')"
      ]
     },
     "execution_count": 7,
     "metadata": {},
     "output_type": "execute_result"
    },
    {
     "data": {
      "image/png": "[encoded data removed]",
      "text/plain": [
       "<Figure size 432x288 with 2 Axes>"
      ]
     },
     "metadata": {
      "needs_background": "light"
     },
     "output_type": "display_data"
    }
   ],
   "source": [
    "import matplotlib.pyplot as plt\n",
    "\n",
    "plt.imshow(Z, cmap=plt.cm.gray)\n",
    "plt.colorbar()\n",
    "plt.title(\"Image plot of $\\sqrt{x^2 + y^2}$ for g grid of values\")"
   ]
  },
  {
   "cell_type": "code",
   "execution_count": 9,
   "metadata": {},
   "outputs": [
    {
     "data": {
      "text/plain": [
       "[1.1, 2.2, 1.3, 1.4, 2.5]"
      ]
     },
     "execution_count": 9,
     "metadata": {},
     "output_type": "execute_result"
    }
   ],
   "source": [
    "# 将条件逻辑表述为数组运算\n",
    "# numpy.where 函数是三元表达式 x if condition else y 的矢量化版本\n",
    "\n",
    "# 两个 值数组\n",
    "x_arr = np.array([1.1, 1.2, 1.3, 1.4, 1.5])\n",
    "y_arr = np.array([2.1, 2.2, 2.3, 2.4, 2.5])\n",
    "# logic 布尔数组\n",
    "condition = np.array([True, False, True, True, False])\n",
    "\n",
    "# 列表推导式\n",
    "result = [(x if c else y) for x, y, c in zip(x_arr, y_arr, condition)]\n",
    "result"
   ]
  },
  {
   "cell_type": "code",
   "execution_count": 10,
   "metadata": {},
   "outputs": [
    {
     "data": {
      "text/plain": [
       "array([1.1, 2.2, 1.3, 1.4, 2.5])"
      ]
     },
     "execution_count": 10,
     "metadata": {},
     "output_type": "execute_result"
    }
   ],
   "source": [
    "# question 1；处理大数组 效率不高\n",
    "# question 2：无法应用于多维数组\n",
    "# solution：矢量化 np.where\n",
    "result_vector = np.where(condition, x_arr, y_arr)\n",
    "result_vector"
   ]
  },
  {
   "cell_type": "code",
   "execution_count": 11,
   "metadata": {},
   "outputs": [
    {
     "data": {
      "text/plain": [
       "array([[-0.36545542, -1.69028732,  1.50362672, -0.16230993],\n",
       "       [ 0.14755199,  1.70812449, -0.01956727, -0.38584389],\n",
       "       [-0.32432926, -1.22588167, -1.01856873,  1.1215925 ],\n",
       "       [-0.30130488, -1.85504669,  0.52817802, -0.44144115]])"
      ]
     },
     "execution_count": 11,
     "metadata": {},
     "output_type": "execute_result"
    }
   ],
   "source": [
    "# 随机生成矩阵数据，正值 替换为 2，负值 替换为 -2\n",
    "arr_random = np.random.randn(4, 4)\n",
    "arr_random"
   ]
  },
  {
   "cell_type": "code",
   "execution_count": 12,
   "metadata": {},
   "outputs": [
    {
     "data": {
      "text/plain": [
       "array([[False, False,  True, False],\n",
       "       [ True,  True, False, False],\n",
       "       [False, False, False,  True],\n",
       "       [False, False,  True, False]])"
      ]
     },
     "execution_count": 12,
     "metadata": {},
     "output_type": "execute_result"
    }
   ],
   "source": [
    "arr_random > 0"
   ]
  },
  {
   "cell_type": "code",
   "execution_count": 14,
   "metadata": {},
   "outputs": [
    {
     "data": {
      "text/plain": [
       "array([[-2, -2,  2, -2],\n",
       "       [ 2,  2, -2, -2],\n",
       "       [-2, -2, -2,  2],\n",
       "       [-2, -2,  2, -2]])"
      ]
     },
     "execution_count": 14,
     "metadata": {},
     "output_type": "execute_result"
    }
   ],
   "source": [
    "np.where(arr_random > 0, 2, -2)"
   ]
  },
  {
   "cell_type": "code",
   "execution_count": 15,
   "metadata": {},
   "outputs": [
    {
     "data": {
      "text/plain": [
       "array([[ 1.54596748, -0.16885519, -0.36121907,  1.2951352 ],\n",
       "       [-0.75033682,  0.8693843 , -0.81423982, -0.42273806],\n",
       "       [ 0.73066602, -0.61598718, -0.0573866 , -0.58170444],\n",
       "       [-0.92959475, -1.00880221, -0.7419588 , -1.09902946],\n",
       "       [ 2.34924397, -0.20807729, -0.06805245, -1.56781565]])"
      ]
     },
     "execution_count": 15,
     "metadata": {},
     "output_type": "execute_result"
    }
   ],
   "source": [
    "# 通过数组上的一组数学函数对整个数组或某个轴向的数据进行统计计算\n",
    "# sum、 mean、std等聚合计算（aggregation， 通常叫做约简（reduction） ）\n",
    "# 既可以当做数组的实例方法调用， 也可以当做顶级NumPy函数使用\n",
    "\n",
    "# 生成了一些正态分布随机数据， 然后做了聚类统计\n",
    "arr_Gaussian = np.random.randn(5, 4)\n",
    "arr_Gaussian"
   ]
  },
  {
   "cell_type": "code",
   "execution_count": 16,
   "metadata": {},
   "outputs": [
    {
     "name": "stdout",
     "output_type": "stream",
     "text": [
      "the mean of dataset:  -0.13027004084141658\n",
      "the sum of dataset:  -2.6054008168283316\n",
      "the mean of dataset:  -0.13027004084141658\n"
     ]
    }
   ],
   "source": [
    "print(\"the mean of dataset: \", arr_Gaussian.mean())\n",
    "print(\"the sum of dataset: \", arr_Gaussian.sum())\n",
    "print(\"the mean of dataset: \", np.mean(arr_Gaussian))"
   ]
  },
  {
   "cell_type": "code",
   "execution_count": 17,
   "metadata": {},
   "outputs": [
    {
     "name": "stdout",
     "output_type": "stream",
     "text": [
      "the mean of dataset for the axis1:  [ 0.5777571  -0.2794826  -0.13110305 -0.9448463   0.12632464]\n",
      "the sum of dataset for the axis0:  [ 2.94594591 -1.13233757 -2.04285674 -2.37615241]\n"
     ]
    }
   ],
   "source": [
    "# 这些 统计函数 可以接受 axis 选项参数，计算指定轴上的数据的统计值\n",
    "\n",
    "# 行 的平均值\n",
    "print(\"the mean of dataset for the axis1: \", arr_Gaussian.mean(axis = 1))\n",
    "# 列 的求和\n",
    "print(\"the sum of dataset for the axis0: \", arr_Gaussian.sum(axis = 0))"
   ]
  },
  {
   "cell_type": "code",
   "execution_count": 18,
   "metadata": {},
   "outputs": [
    {
     "data": {
      "text/plain": [
       "51"
      ]
     },
     "execution_count": 18,
     "metadata": {},
     "output_type": "execute_result"
    }
   ],
   "source": [
    "# 统计方法        说明\n",
    "# sum             对数组中全部或者某轴的元素求和，零长度数组sum为0\n",
    "# mean            算术平均数，零长度数组mean为 NaN\n",
    "# std\\var         分别为标准差 和 方差\n",
    "# min\\max         最大值和最小值\n",
    "# argmin\\argmax   分别为最大和最小元素索引\n",
    "# cumsum          所有元素的累计和\n",
    "# cumprod         所有元素的累计积\n",
    "\n",
    "# 这些统计方法中，布尔值 会被强制转化为 1（True）和 0（False）\n",
    "# sum 统计布尔型数组中的 True 个数\n",
    "arr = np.random.randn(100)\n",
    "(arr > 0).sum()"
   ]
  },
  {
   "cell_type": "code",
   "execution_count": 19,
   "metadata": {},
   "outputs": [
    {
     "name": "stdout",
     "output_type": "stream",
     "text": [
      "True\n",
      "False\n"
     ]
    }
   ],
   "source": [
    "# any and all method 对于布尔型数组非常有用\n",
    "# any 测试数组中是否存在一个或者多个True\n",
    "# all 测试数组中所有值是否都是True\n",
    "bools = np.array([False, False, True, False])\n",
    "print(bools.any())\n",
    "print(bools.all())"
   ]
  },
  {
   "cell_type": "code",
   "execution_count": 20,
   "metadata": {},
   "outputs": [
    {
     "data": {
      "text/plain": [
       "array([ 1.25487442, -2.20225111,  0.49354525, -0.07813859,  0.91287791,\n",
       "       -0.41495535])"
      ]
     },
     "execution_count": 20,
     "metadata": {},
     "output_type": "execute_result"
    }
   ],
   "source": [
    "# 排序\n",
    "# 与 Python 内置方法一致，numpy 数组一样可以 sort 方法就地排序\n",
    "arr = np.random.randn(6)\n",
    "arr"
   ]
  },
  {
   "cell_type": "code",
   "execution_count": 22,
   "metadata": {},
   "outputs": [
    {
     "data": {
      "text/plain": [
       "array([-2.20225111, -0.41495535, -0.07813859,  0.49354525,  0.91287791,\n",
       "        1.25487442])"
      ]
     },
     "execution_count": 22,
     "metadata": {},
     "output_type": "execute_result"
    }
   ],
   "source": [
    "arr.sort()\n",
    "arr"
   ]
  },
  {
   "cell_type": "code",
   "execution_count": 23,
   "metadata": {},
   "outputs": [
    {
     "data": {
      "text/plain": [
       "array([[ 1.15631365, -0.7308923 , -2.45565255],\n",
       "       [ 2.08875785, -0.17964062,  1.13258301],\n",
       "       [-0.41356165,  0.49831558,  0.05697042],\n",
       "       [-0.14260991,  1.22808541,  1.18712298],\n",
       "       [ 0.16233879, -0.77538383, -0.54969005]])"
      ]
     },
     "execution_count": 23,
     "metadata": {},
     "output_type": "execute_result"
    }
   ],
   "source": [
    "# 多维数组可以在指定轴上进行排序，将轴编号传入\n",
    "arr = np.random.randn(5, 3)\n",
    "arr"
   ]
  },
  {
   "cell_type": "code",
   "execution_count": 24,
   "metadata": {},
   "outputs": [
    {
     "data": {
      "text/plain": [
       "array([[-2.45565255, -0.7308923 ,  1.15631365],\n",
       "       [-0.17964062,  1.13258301,  2.08875785],\n",
       "       [-0.41356165,  0.05697042,  0.49831558],\n",
       "       [-0.14260991,  1.18712298,  1.22808541],\n",
       "       [-0.77538383, -0.54969005,  0.16233879]])"
      ]
     },
     "execution_count": 24,
     "metadata": {},
     "output_type": "execute_result"
    }
   ],
   "source": [
    "# 在 列 上进行排序\n",
    "arr.sort(1)\n",
    "arr"
   ]
  },
  {
   "cell_type": "code",
   "execution_count": 25,
   "metadata": {},
   "outputs": [
    {
     "data": {
      "text/plain": [
       "-1.6916849812362698"
      ]
     },
     "execution_count": 25,
     "metadata": {},
     "output_type": "execute_result"
    }
   ],
   "source": [
    "# 顶级方法np.sort返回的是数组的已排序副本， 而就地排序则会修改数组本身。\n",
    "# 计算数组分位数最简单的办法是对其进行排序， 然后选取特定位置的值：\n",
    "large_arr = np.random.randn(1000)\n",
    "large_arr.sort()\n",
    "large_arr[int(0.05 * len(large_arr))] # 5% quantile"
   ]
  },
  {
   "cell_type": "code",
   "execution_count": 26,
   "metadata": {},
   "outputs": [
    {
     "data": {
      "text/plain": [
       "array(['Bob', 'Joe', 'Will'], dtype='<U4')"
      ]
     },
     "execution_count": 26,
     "metadata": {},
     "output_type": "execute_result"
    }
   ],
   "source": [
    "# 唯一化 其他集合逻辑\n",
    "# 针对一维 ndarray 数组的基本集合运算\n",
    "# np.unique,找出数组中唯一值并返回已排序的结果\n",
    "names = np.array(['Bob', 'Joe', 'Will', 'Bob', 'Will', 'Joe', 'Joe'])\n",
    "np.unique(names)"
   ]
  },
  {
   "cell_type": "code",
   "execution_count": 27,
   "metadata": {},
   "outputs": [
    {
     "data": {
      "text/plain": [
       "array([1, 2, 3, 4])"
      ]
     },
     "execution_count": 27,
     "metadata": {},
     "output_type": "execute_result"
    }
   ],
   "source": [
    "ints = np.array([3, 3, 3, 2, 2, 1, 1, 4, 4])\n",
    "np.unique(ints)"
   ]
  },
  {
   "cell_type": "code",
   "execution_count": 28,
   "metadata": {},
   "outputs": [],
   "source": [
    "# 数组的集合运算\n",
    "# 方法            说明\n",
    "# unique(x)        计算x中唯一元素，并返回有序结果\n",
    "# intersect1d(x,y) 计算x和y的公共元素，并返回有序结果\n",
    "# union1d(x,y)     计算x和y的并集，并返回有序结果\n",
    "# in1d(x,y)        得到表示“x的元素是否包含于y”的布尔数组\n",
    "# setdiff1d(x,y)   集合的差，即元素在x中不在y中\n",
    "# setxor1d(x,y)    集合的对称差，即存在于一个数组中但不同时存在于两个数组中的元素\n",
    "\n",
    "\n",
    "# 用户数组的文件输入输出\n",
    "# NumPy能够读写磁盘上的文本数据或二进制数据\n",
    "# 只讨论NumPy的内置二进制格式，因更多的使用pandas加载文本或表格数据\n",
    "# np.save和np.load是读写磁盘数组数据的两个主要函数\n",
    "# 默认情况下， 数组是以未压缩的原始二进制格式保存在扩展名为.npy的文件中的\n",
    "\n",
    "# the path of dataset\n",
    "dataset_path = './../datasest/'\n",
    "\n",
    "arr = np.arange(10)\n",
    "np.save(dataset_path + 'some_array', arr)"
   ]
  },
  {
   "cell_type": "code",
   "execution_count": 29,
   "metadata": {},
   "outputs": [
    {
     "data": {
      "text/plain": [
       "array([0, 1, 2, 3, 4, 5, 6, 7, 8, 9])"
      ]
     },
     "execution_count": 29,
     "metadata": {},
     "output_type": "execute_result"
    }
   ],
   "source": [
    "# 如果文件路径末尾没有扩展名.npy， 则该扩展名会被自动加上\n",
    "# 然后就可以通过np.load读取磁盘上的数组\n",
    "\n",
    "np.load(dataset_path + 'some_array.npy')"
   ]
  },
  {
   "cell_type": "code",
   "execution_count": 30,
   "metadata": {},
   "outputs": [],
   "source": [
    "# 通过np.savez可以将多个数组保存到一个未压缩文件中， \n",
    "#     将数组以关键字参数的形式传入即可：\n",
    "np.savez(dataset_path + 'array_archive.npz', a=arr, b=arr)"
   ]
  },
  {
   "cell_type": "code",
   "execution_count": 31,
   "metadata": {},
   "outputs": [
    {
     "data": {
      "text/plain": [
       "array([0, 1, 2, 3, 4, 5, 6, 7, 8, 9])"
      ]
     },
     "execution_count": 31,
     "metadata": {},
     "output_type": "execute_result"
    }
   ],
   "source": [
    "# 加载.npz文件时， 你会得到一个类似字典的对象， 该对象会对各个数组进行延迟加载：\n",
    "arch = np.load(dataset_path + 'array_archive.npz')\n",
    "arch['b']"
   ]
  },
  {
   "cell_type": "code",
   "execution_count": 32,
   "metadata": {},
   "outputs": [],
   "source": [
    "# 如果要将数据压缩， 可以使用numpy.savez_compressed：\n",
    "np.savez_compressed(dataset_path + 'arrays_compressed.npz', a=arr, b=arr)"
   ]
  },
  {
   "cell_type": "code",
   "execution_count": 33,
   "metadata": {},
   "outputs": [
    {
     "name": "stdout",
     "output_type": "stream",
     "text": [
      "[[ 28.  64.]\n",
      " [ 67. 181.]]\n",
      "============================\n",
      "[[ 28.  64.]\n",
      " [ 67. 181.]]\n"
     ]
    }
   ],
   "source": [
    "# 性线代数\n",
    "# 矩阵乘法、矩阵分解、行列式等等\n",
    "# numpy 提供矩阵乘法的 dot 运算函数\n",
    "# 即是一个数组方法，也是一个numpy空间的函数\n",
    "# x.dot(y) 等价于 np.dot(x,y)\n",
    "\n",
    "x = np.array([[1., 2., 3.], [4., 5., 6.]])\n",
    "y = np.array([[6., 23.], [-1, 7], [8, 9]])\n",
    "\n",
    "print(x.dot(y))\n",
    "print(\"============================\")\n",
    "print(np.dot(x, y))"
   ]
  },
  {
   "cell_type": "code",
   "execution_count": 34,
   "metadata": {},
   "outputs": [
    {
     "data": {
      "text/plain": [
       "array([ 6., 15.])"
      ]
     },
     "execution_count": 34,
     "metadata": {},
     "output_type": "execute_result"
    }
   ],
   "source": [
    "# 满足 矩阵乘法 规则,计算结果为一维数组，行 * 列 = 数值\n",
    "np.dot(x, np.ones(3))"
   ]
  },
  {
   "cell_type": "code",
   "execution_count": 35,
   "metadata": {},
   "outputs": [
    {
     "data": {
      "text/plain": [
       "array([[ 31.60002394, -10.46674904,   1.29606939, -12.67301711,\n",
       "        -10.12098903],\n",
       "       [-10.46674904,   3.62865665,  -0.38832104,   4.17370279,\n",
       "          3.44304935],\n",
       "       [  1.29606939,  -0.38832104,   0.2785569 ,  -0.64094988,\n",
       "         -0.28612645],\n",
       "       [-12.67301711,   4.17370279,  -0.64094988,   5.37281777,\n",
       "          3.88474977],\n",
       "       [-10.12098903,   3.44304935,  -0.28612645,   3.88474977,\n",
       "          3.51577674]])"
      ]
     },
     "execution_count": 35,
     "metadata": {},
     "output_type": "execute_result"
    }
   ],
   "source": [
    "# numpy.linalg 中有一组矩阵分解运算，求逆，行列式等等\n",
    "# 使用的是行业标准性线代数库 ，如同 MATLAB、R语言一样\n",
    "\n",
    "# 函数    说明\n",
    "# diag    以一维数组形式返回方阵的对角线元素\n",
    "# dot     矩阵乘法\n",
    "# trace   计算对角线元素的和 —— 矩阵的迹\n",
    "# det     计算矩阵的行列式\n",
    "# eig     计算方阵的特征值和特征向量\n",
    "# inv     计算方阵的逆\n",
    "# pinv    计算矩阵的 Moore-Penrose 伪逆\n",
    "# qr      计算 QP 分解\n",
    "# svd     计算奇异值分解\n",
    "# solve   解线性方程组 Ax = b ，其中 A 为方阵\n",
    "# lstsq   计算 Ax = b 的最小二乘法\n",
    "\n",
    "from numpy.linalg import inv, qr\n",
    "\n",
    "X = np.random.randn(5, 5)\n",
    "mat = X.T.dot(X)\n",
    "inv(mat)"
   ]
  },
  {
   "cell_type": "code",
   "execution_count": 36,
   "metadata": {},
   "outputs": [
    {
     "data": {
      "text/plain": [
       "array([[ 1.00000000e+00, -3.55271368e-15, -4.44089210e-16,\n",
       "         1.77635684e-15, -3.55271368e-15],\n",
       "       [-7.10542736e-15,  1.00000000e+00, -4.44089210e-16,\n",
       "         1.24344979e-14,  8.88178420e-15],\n",
       "       [-3.55271368e-15,  1.77635684e-15,  1.00000000e+00,\n",
       "         0.00000000e+00,  8.88178420e-16],\n",
       "       [ 0.00000000e+00,  1.77635684e-15, -1.11022302e-15,\n",
       "         1.00000000e+00, -3.55271368e-15],\n",
       "       [ 1.42108547e-14, -7.10542736e-15, -8.88178420e-16,\n",
       "        -3.55271368e-15,  1.00000000e+00]])"
      ]
     },
     "execution_count": 36,
     "metadata": {},
     "output_type": "execute_result"
    }
   ],
   "source": [
    "mat.dot(inv(mat))"
   ]
  },
  {
   "cell_type": "code",
   "execution_count": 37,
   "metadata": {},
   "outputs": [
    {
     "data": {
      "text/plain": [
       "array([[ 0.03298924,  0.12324894, -0.52147611, -0.75306781],\n",
       "       [ 0.7436339 , -2.7712555 ,  0.52393724, -2.12611221],\n",
       "       [ 1.62137807,  0.18671416, -0.24914766, -1.53750184],\n",
       "       [ 0.24322356,  0.62486248, -0.33113795,  0.80587551]])"
      ]
     },
     "execution_count": 37,
     "metadata": {},
     "output_type": "execute_result"
    }
   ],
   "source": [
    "# numpy.random 模块对 Python 内置的random进行补充\n",
    "# 增加了用于高效生成多种概率分布的样本值的函数\n",
    "# 用 normal 达到一个标准正态分布的 4X4 样本数组\n",
    "samples = np.random.normal(size=(4,4))\n",
    "samples"
   ]
  },
  {
   "cell_type": "code",
   "execution_count": 39,
   "metadata": {},
   "outputs": [
    {
     "name": "stdout",
     "output_type": "stream",
     "text": [
      "3.04 s ± 30.7 ms per loop (mean ± std. dev. of 7 runs, 1 loop each)\n",
      "===========================================================\n",
      "75.7 ms ± 1.09 ms per loop (mean ± std. dev. of 7 runs, 10 loops each)\n"
     ]
    }
   ],
   "source": [
    "# 效率高\n",
    "from random import normalvariate\n",
    "\n",
    "N = 1000000\n",
    "\n",
    "%timeit samples = [normalvariate(0, 1) for _ in range(N)]\n",
    "\n",
    "print(\"===========================================================\")\n",
    "\n",
    "%timeit np.random.normal(size=N)\n"
   ]
  },
  {
   "cell_type": "code",
   "execution_count": 40,
   "metadata": {},
   "outputs": [],
   "source": [
    "# 这种都是伪随机数，通过算法基于随机数生成器种子，在确定性条件下生成的\n",
    "# 更改随机数生成的种子\n",
    "# np.random.seed(1234)\n",
    "\n",
    "# np.random.seed() 创建使用了全局随机种子\n",
    "# 为了避免全局状态，使用 numpy.random.RandomState 创建与其他隔离的随机数生成器\n",
    "\n",
    "# 函数          说明\n",
    "# seed          确定随机数生成器的种子\n",
    "# permutation   返回序列的随机排列或者返回随机排序的范围\n",
    "# shuffle       对一个序列就地随机排序\n",
    "# rand          产生均匀分布的样本值\n",
    "# randint       从给定的上下范围内随机选取整数\n",
    "# randn         产生正态分布的样本值（平局值为 0，标准差为 1）\n",
    "# binomial      产生二项分布的样本值\n",
    "# normal        产生标准正态分布（高斯分布）样本值\n",
    "# beta          产生Beta分布的样本值\n",
    "# chisquare     产生卡方分布的样本值\n",
    "# gamma         产生Gamma分布的样本值\n",
    "# uniform       产生在【0,1】中均匀分布的样本值"
   ]
  },
  {
   "cell_type": "code",
   "execution_count": 42,
   "metadata": {},
   "outputs": [
    {
     "data": {
      "text/plain": [
       "[<matplotlib.lines.Line2D at 0xc50fb48>]"
      ]
     },
     "execution_count": 42,
     "metadata": {},
     "output_type": "execute_result"
    },
    {
     "data": {
      "image/png": "[encoded data removed]",
      "text/plain": [
       "<Figure size 432x288 with 1 Axes>"
      ]
     },
     "metadata": {
      "needs_background": "light"
     },
     "output_type": "display_data"
    }
   ],
   "source": [
    "# 随机漫步\n",
    "\n",
    "# 模拟随机漫步说明如何运用数组运算\n",
    "\n",
    "# 简单随机漫步\n",
    "# 从 0 开始， 步长 1 和 -1 出现的概率相等\n",
    "\n",
    "# 内置的random模块以纯Python方式实现1000步的随机漫步\n",
    "import random\n",
    "position = 0\n",
    "walk = [position]\n",
    "steps = 1000\n",
    "for i in range(steps):\n",
    "    step = i if random.randint(0,1) else -1\n",
    "    position += step\n",
    "    walk.append(position)\n",
    "    \n",
    "# 根据前 100 个随机漫步输出折线图\n",
    "plt.plot(walk[:100])"
   ]
  },
  {
   "cell_type": "code",
   "execution_count": 43,
   "metadata": {},
   "outputs": [
    {
     "data": {
      "text/plain": [
       "-50"
      ]
     },
     "execution_count": 43,
     "metadata": {},
     "output_type": "execute_result"
    }
   ],
   "source": [
    "# 就是随机漫步中每一步的累计和，可用一个数组运算来实现\n",
    "# 用 np.random 模块一次性产生1000个 “抛硬币” 结果，分别设置 1 -1\n",
    "nsteps = 1000\n",
    "draws = np.random.randint(0, 2, size=nsteps)\n",
    "steps = np.where(draws > 0, 1, -1)\n",
    "walk = steps.cumsum()\n",
    "walk.min()"
   ]
  },
  {
   "cell_type": "code",
   "execution_count": 44,
   "metadata": {},
   "outputs": [
    {
     "data": {
      "text/plain": [
       "3"
      ]
     },
     "execution_count": 44,
     "metadata": {},
     "output_type": "execute_result"
    }
   ],
   "source": [
    "walk.max()"
   ]
  },
  {
   "cell_type": "code",
   "execution_count": 45,
   "metadata": {},
   "outputs": [
    {
     "data": {
      "text/plain": [
       "69"
      ]
     },
     "execution_count": 45,
     "metadata": {},
     "output_type": "execute_result"
    }
   ],
   "source": [
    "# 复杂点的统计任务——首次穿越时间， 即随机漫步过程中第一次到达某个特定值的时间\n",
    "# 假设想要知道本次随机漫步需要多久才能距离初始 0 点至少 10 步远（任一方向均可）\n",
    "# np.abs(walk)>=10 可以得到一个布尔型数组， 它表示的是距离是否达到或超过10，\n",
    "# 而想要知道的是第一个10或－10的索引。 \n",
    "# 可以用argmax来解决这个问题， 它返回的是该布尔型数组第一个最大值的索引（True就是最大值） ：\n",
    "(np.abs(walk) >= 10).argmax()"
   ]
  },
  {
   "cell_type": "code",
   "execution_count": 47,
   "metadata": {},
   "outputs": [
    {
     "data": {
      "text/plain": [
       "array([[  1,   0,   1, ...,  48,  49,  50],\n",
       "       [ -1,  -2,  -1, ..., -16, -17, -18],\n",
       "       [  1,   2,   1, ...,  12,  13,  12],\n",
       "       ...,\n",
       "       [ -1,   0,   1, ...,  10,   9,   8],\n",
       "       [  1,   2,   3, ...,  34,  35,  36],\n",
       "       [ -1,   0,  -1, ...,  24,  25,  24]], dtype=int32)"
      ]
     },
     "execution_count": 47,
     "metadata": {},
     "output_type": "execute_result"
    }
   ],
   "source": [
    "# 一次模拟多个随机漫步\n",
    "nwalks = 5000\n",
    "nsteps = 1000\n",
    "draws = np.random.randint(0, 2, size=(nwalks, nsteps))\n",
    "steps = np.where(draws > 0, 1, -1)\n",
    "walks = steps.cumsum(1)\n",
    "walks"
   ]
  },
  {
   "cell_type": "code",
   "execution_count": 48,
   "metadata": {},
   "outputs": [
    {
     "data": {
      "text/plain": [
       "130"
      ]
     },
     "execution_count": 48,
     "metadata": {},
     "output_type": "execute_result"
    }
   ],
   "source": [
    "walks.max()"
   ]
  },
  {
   "cell_type": "code",
   "execution_count": 49,
   "metadata": {},
   "outputs": [
    {
     "data": {
      "text/plain": [
       "-116"
      ]
     },
     "execution_count": 49,
     "metadata": {},
     "output_type": "execute_result"
    }
   ],
   "source": [
    "walks.min()"
   ]
  },
  {
   "cell_type": "code",
   "execution_count": 50,
   "metadata": {},
   "outputs": [
    {
     "data": {
      "text/plain": [
       "array([ True, False, False, ...,  True,  True,  True])"
      ]
     },
     "execution_count": 50,
     "metadata": {},
     "output_type": "execute_result"
    }
   ],
   "source": [
    "# 计算 30 或者 -30 的最小穿越时间\n",
    "# 不是 5000 个过程都达到 30 需要 any 方法进行检测\n",
    "hits30 = (np.abs(walks) >= 30).any(1)\n",
    "hits30"
   ]
  },
  {
   "cell_type": "code",
   "execution_count": 51,
   "metadata": {},
   "outputs": [
    {
     "data": {
      "text/plain": [
       "3364"
      ]
     },
     "execution_count": 51,
     "metadata": {},
     "output_type": "execute_result"
    }
   ],
   "source": [
    "hits30.sum()"
   ]
  },
  {
   "cell_type": "code",
   "execution_count": 53,
   "metadata": {},
   "outputs": [
    {
     "data": {
      "text/plain": [
       "510.35850178359095"
      ]
     },
     "execution_count": 53,
     "metadata": {},
     "output_type": "execute_result"
    }
   ],
   "source": [
    "# 利用布尔型数组选出穿越 30 的随机漫步，调用 argmax 在轴1上获取穿越时间\n",
    "crossing_times = (np.abs(walks[hits30]) >= 30).argmax(1)\n",
    "crossing_times.mean()"
   ]
  },
  {
   "cell_type": "code",
   "execution_count": null,
   "metadata": {},
   "outputs": [],
   "source": []
  }
 ],
 "metadata": {
  "kernelspec": {
   "display_name": "Python 3",
   "language": "python",
   "name": "python3"
  },
  "language_info": {
   "codemirror_mode": {
    "name": "ipython",
    "version": 3
   },
   "file_extension": ".py",
   "mimetype": "text/x-python",
   "name": "python",
   "nbconvert_exporter": "python",
   "pygments_lexer": "ipython3",
   "version": "3.7.6"
  }
 },
 "nbformat": 4,
 "nbformat_minor": 4
}
